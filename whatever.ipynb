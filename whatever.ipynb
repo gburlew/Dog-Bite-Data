{
 "cells": [
  {
   "cell_type": "code",
   "execution_count": null,
   "metadata": {},
   "outputs": [],
   "source": [
    "# Importing dependencies that will be used for the code.\n",
    "import json\n",
    "import pandas as pd\n",
    "from pprint import pprint\n",
    "import datetime\n",
    "# Importing json data.\n",
    "json_data = json.load(open(\"dogbites.json\"))"
   ]
  },
  {
   "cell_type": "code",
   "execution_count": null,
   "metadata": {},
   "outputs": [],
   "source": [
    "# Creating a data specific DataFrame.\n",
    "dog_data = pd.DataFrame(json_data[\"data\"], columns=[\n",
    "  \"drop_code1\",\n",
    "  \"drop_code2\",\n",
    "  \"drop_code3\",\n",
    "  \"drop_code4\",\n",
    "  \"drop_code5\",\n",
    "  \"drop_code6\",\n",
    "  \"drop_code7\",\n",
    "  \"drop_code8\",\n",
    "  \"unique_id\",\n",
    "  \"incident_date\",\n",
    "  \"species\",\n",
    "  \"breed\",\n",
    "  \"age\",\n",
    "  \"gender\",\n",
    "  \"spay_neuter_status\",\n",
    "  \"borough\",\n",
    "  \"zip_code\"\n",
    "])"
   ]
  },
  {
   "cell_type": "code",
   "execution_count": null,
   "metadata": {},
   "outputs": [],
   "source": [
    "# Specifying columns to drop.\n",
    "drop_columns = [\n",
    "  \"drop_code1\",\n",
    "  \"drop_code2\",\n",
    "  \"drop_code3\",\n",
    "  \"drop_code4\",\n",
    "  \"drop_code5\",\n",
    "  \"drop_code6\",\n",
    "  \"drop_code7\",\n",
    "  \"drop_code8\",\n",
    "  \"species\",\n",
    "  \"unique_id\",\n",
    "]"
   ]
  },
  {
   "cell_type": "code",
   "execution_count": null,
   "metadata": {},
   "outputs": [],
   "source": [
    "# Cleaning column headers.\n",
    "dog_data_clean = dog_data.drop(columns=drop_columns)\n",
    "dt_format = None\n",
    "zip_drop = ['N/A', '?', 'None']\n",
    "dog_data_clean['age'] = dog_data_clean[\"age\"].replace(\"Y\", \"\", regex=True)\n",
    "dog_data_clean['incident_date'] = pd.to_datetime(dog_data_clean[\"incident_date\"], format=dt_format)\n",
    "dog_data_clean['breed'] = dog_data_clean[\"breed\"].str.lower()\n",
    "dog_data_clean = dog_data_clean[dog_data_clean[\"borough\"] != 'Other']\n",
    "dog_data_clean = dog_data_clean[dog_data_clean[\"breed\"] != 'unknown']\n",
    "dog_data_clean = dog_data_clean[dog_data_clean[\"gender\"] != 'U']\n",
    "dog_data_clean = dog_data_clean[dog_data_clean[\"zip_code\"] != \"N/A\"]\n",
    "dog_data_clean = dog_data_clean[dog_data_clean[\"zip_code\"] != \"?\"]\n",
    "dog_data_clean = dog_data_clean[dog_data_clean[\"zip_code\"].notna()]"
   ]
  },
  {
   "cell_type": "code",
   "execution_count": null,
   "metadata": {},
   "outputs": [],
   "source": [
    "# Sorting and printing data.\n",
    "dog_data_clean.sort_values(\"incident_date\")\n",
    "dog_data_clean = dog_data_clean.reset_index()\n",
    "dog_data_clean.index.names = ['unique_id']\n",
    "print(dog_data_clean)"
   ]
  },
  {
   "cell_type": "code",
   "execution_count": null,
   "metadata": {},
   "outputs": [],
   "source": [
    "# Creating table DataFrames.\n",
    "# Dogbite locations.\n",
    "dogbite_locations_df = dog_data_clean[[\"borough\",\"zip_code\"]].copy()\n",
    "dogbite_locations_df = dogbite_locations_df.groupby([\"borough\"])\n",
    "for result in dogbite_locations_df:\n",
    "  print(result)\n",
    "\n",
    "# Unique dog data.\n",
    "# dog_data_df = dog_data_clean[['breed', '']]"
   ]
  },
  {
   "cell_type": "code",
   "execution_count": null,
   "metadata": {},
   "outputs": [],
   "source": [
    "# Exporting DataFrames to csv files.\n",
    "dog_data_clean.to_csv(\"cleaned_data.csv\")"
   ]
  }
 ],
 "metadata": {
  "language_info": {
   "name": "python"
  }
 },
 "nbformat": 4,
 "nbformat_minor": 2
}
