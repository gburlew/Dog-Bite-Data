{
 "cells": [
  {
   "cell_type": "code",
   "execution_count": 4,
   "id": "c487d1ea-e5ae-43b6-ab42-a6ace2164f8b",
   "metadata": {},
   "outputs": [],
   "source": [
    "import folium\n",
    "import pandas as pd\n",
    "\n",
    "manhattan = pd.read_csv('manhattan.csv')\n",
    "brooklyn = pd.read_csv('brooklyn.csv')\n",
    "staten_island = pd.read_csv('staten island.csv')\n",
    "bronx = pd.read_csv('bronx.csv')\n",
    "queens = pd.read_csv('queens.csv')\n",
    "incidents = pd.read_csv('incidents_by_year_borough.csv')"
   ]
  },
  {
   "cell_type": "code",
   "execution_count": 5,
   "id": "cf52a250-4373-4fc3-b46c-32beef4dbf0a",
   "metadata": {},
   "outputs": [],
   "source": [
    "incidents = incidents[[\"borough\", \"incidentcount\"]]"
   ]
  },
  {
   "cell_type": "code",
   "execution_count": 6,
   "id": "5eb85137-563c-4dd2-b76e-f201225ef013",
   "metadata": {},
   "outputs": [
    {
     "name": "stdout",
     "output_type": "stream",
     "text": [
      "1823\n",
      "                                  breed  breed_count  bpercentages\n",
      "0                              pit bull          384      0.210642\n",
      "1                              shih tzu           96      0.052660\n",
      "2                             chihuahua           86      0.047175\n",
      "3                           mixed/other           77      0.042238\n",
      "4  american pit bull mix / pit bull mix           63      0.034558\n",
      "5                               unknown           54      0.029622\n",
      "6                     yorkshire terrier           52      0.028524\n",
      "7                               maltese           43      0.023587\n",
      "8                       german shepherd           40      0.021942\n",
      "9    american pit bull terrier/pit bull           37      0.020296\n",
      "2750\n",
      "                                  breed  breed_count  bpercentages\n",
      "0                               unknown          294      0.106909\n",
      "1                              pit bull          258      0.093818\n",
      "2                           mixed/other          137      0.049818\n",
      "3  american pit bull mix / pit bull mix           97      0.035273\n",
      "4                              shih tzu           77      0.028000\n",
      "5                     yorkshire terrier           66      0.024000\n",
      "6                             chihuahua           63      0.022909\n",
      "7                    labrador retriever           52      0.018909\n",
      "8                       german shepherd           46      0.016727\n",
      "9                               maltese           45      0.016364\n",
      "1039\n",
      "                                  breed  breed_count  bpercentages\n",
      "0                              pit bull          178      0.171319\n",
      "1                       german shepherd           46      0.044273\n",
      "2                           mixed/other           42      0.040423\n",
      "3  american pit bull mix / pit bull mix           42      0.040423\n",
      "4                              shih tzu           37      0.035611\n",
      "5                    labrador retriever           27      0.025987\n",
      "6                               unknown           26      0.025024\n",
      "7                            rottweiler           23      0.022137\n",
      "8                     large mixed breed           22      0.021174\n",
      "9                     yorkshire terrier           20      0.019249\n",
      "3381\n",
      "                                  breed  breed_count  bpercentages\n",
      "0                              pit bull          411      0.121562\n",
      "1                                 mixed          156      0.046140\n",
      "2                       german shepherd          146      0.043182\n",
      "3                              shih tzu          141      0.041704\n",
      "4  american pit bull mix / pit bull mix          126      0.037267\n",
      "5                           mixed breed           95      0.028098\n",
      "6                             chihuahua           89      0.026324\n",
      "7                        siberian husky           87      0.025732\n",
      "8                     yorkshire terrier           87      0.025732\n",
      "9                               maltese           82      0.024253\n",
      "2531\n",
      "                                  breed  breed_count  bpercentages\n",
      "0                              pit bull          212      0.083761\n",
      "1    american pit bull terrier/pit bull          144      0.056895\n",
      "2                           mixed breed          139      0.054919\n",
      "3  american pit bull mix / pit bull mix          127      0.050178\n",
      "4                                 mixed          126      0.049783\n",
      "5                              shih tzu           87      0.034374\n",
      "6                       german shepherd           83      0.032793\n",
      "7                     yorkshire terrier           58      0.022916\n",
      "8                             chihuahua           57      0.022521\n",
      "9         labrador retriever crossbreed           46      0.018175\n"
     ]
    }
   ],
   "source": [
    "boroughs = [\"Bronx\", \"Manhattan\", \"Staten Island\", \"Queens\", \"Brooklyn\"]\n",
    "for b in boroughs:\n",
    "    total = incidents[incidents[\"borough\"] == b][\"incidentcount\"].sum()\n",
    "    print(total)\n",
    "    data = pd.read_csv(f\"{b}.csv\")\n",
    "    data[\"bpercentages\"] = data[\"breed_count\"]/total\n",
    "    print(data)"
   ]
  },
  {
   "cell_type": "code",
   "execution_count": null,
   "id": "b45c6f32-db99-4555-9510-2a38d9149840",
   "metadata": {},
   "outputs": [],
   "source": []
  }
 ],
 "metadata": {
  "kernelspec": {
   "display_name": "Python 3 (ipykernel)",
   "language": "python",
   "name": "python3"
  },
  "language_info": {
   "codemirror_mode": {
    "name": "ipython",
    "version": 3
   },
   "file_extension": ".py",
   "mimetype": "text/x-python",
   "name": "python",
   "nbconvert_exporter": "python",
   "pygments_lexer": "ipython3",
   "version": "3.10.14"
  }
 },
 "nbformat": 4,
 "nbformat_minor": 5
}
