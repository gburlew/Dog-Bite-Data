{
 "cells": [
  {
   "cell_type": "code",
   "execution_count": 8,
   "metadata": {},
   "outputs": [],
   "source": [
    "# Importing dependencies that will be used for the code.\n",
    "import json\n",
    "import pandas as pd\n",
    "from pprint import pprint\n",
    "import datetime\n",
    "# Importing json data.\n",
    "json_data = json.load(open(\"dogbites.json\"))"
   ]
  },
  {
   "cell_type": "code",
   "execution_count": 9,
   "metadata": {},
   "outputs": [],
   "source": [
    "# Creating a data specific DataFrame.\n",
    "dog_data = pd.DataFrame(json_data[\"data\"], columns=[\n",
    "  \"drop_code1\",\n",
    "  \"drop_code2\",\n",
    "  \"drop_code3\",\n",
    "  \"drop_code4\",\n",
    "  \"drop_code5\",\n",
    "  \"drop_code6\",\n",
    "  \"drop_code7\",\n",
    "  \"drop_code8\",\n",
    "  \"unique_id\",\n",
    "  \"incident_date\",\n",
    "  \"species\",\n",
    "  \"breed\",\n",
    "  \"age\",\n",
    "  \"gender\",\n",
    "  \"spay_neuter_status\",\n",
    "  \"borough\",\n",
    "  \"zip_code\"\n",
    "])"
   ]
  },
  {
   "cell_type": "code",
   "execution_count": 10,
   "metadata": {},
   "outputs": [],
   "source": [
    "# Specifying columns to drop.\n",
    "drop_columns = [\n",
    "  \"drop_code1\",\n",
    "  \"drop_code2\",\n",
    "  \"drop_code3\",\n",
    "  \"drop_code4\",\n",
    "  \"drop_code5\",\n",
    "  \"drop_code6\",\n",
    "  \"drop_code7\",\n",
    "  \"drop_code8\",\n",
    "  \"species\",\n",
    "  \"unique_id\",\n",
    "]"
   ]
  },
  {
   "cell_type": "code",
   "execution_count": 11,
   "metadata": {},
   "outputs": [],
   "source": [
    "# Cleaning column headers.\n",
    "dog_data_clean = dog_data.drop(columns=drop_columns)\n",
    "dt_format = None\n",
    "zip_drop = ['N/A', '?', 'None']\n",
    "dog_data_clean['age'] = dog_data_clean[\"age\"].replace(\"Y\", \"\", regex=True)\n",
    "dog_data_clean['incident_date'] = pd.to_datetime(dog_data_clean[\"incident_date\"], format=dt_format)\n",
    "dog_data_clean['breed'] = dog_data_clean[\"breed\"].str.lower()\n",
    "dog_data_clean = dog_data_clean[dog_data_clean[\"borough\"] != 'Other']\n",
    "dog_data_clean = dog_data_clean[dog_data_clean[\"breed\"] != 'unknown']\n",
    "dog_data_clean = dog_data_clean[dog_data_clean[\"gender\"] != 'U']\n",
    "dog_data_clean = dog_data_clean[dog_data_clean[\"zip_code\"] != \"N/A\"]\n",
    "dog_data_clean = dog_data_clean[dog_data_clean[\"zip_code\"] != \"?\"]\n",
    "dog_data_clean = dog_data_clean[dog_data_clean[\"zip_code\"].notna()]"
   ]
  },
  {
   "cell_type": "code",
   "execution_count": 12,
   "metadata": {},
   "outputs": [
    {
     "name": "stdout",
     "output_type": "stream",
     "text": [
      "           index incident_date                                 breed age  \\\n",
      "unique_id                                                                  \n",
      "0              3    2018-01-08                           mixed/other   4   \n",
      "1              5    2018-01-03                               basenji   4   \n",
      "2              8    2018-01-04  american pit bull mix / pit bull mix   5   \n",
      "3              9    2018-01-10                                 mixed   3   \n",
      "4             11    2018-01-07          yorkshire terrier crossbreed   7   \n",
      "...          ...           ...                                   ...  ..   \n",
      "10963      26119    2022-12-31                shih tzu / maltese mix  12   \n",
      "10964      26122    2022-12-31          yorkshire terrier crossbreed   1   \n",
      "10965      26124    2022-12-31                               maltese   6   \n",
      "10966      26125    2022-12-31                                beagle   1   \n",
      "10967      26126    2022-12-31                            cock-a-poo   6   \n",
      "\n",
      "          gender  spay_neuter_status   borough zip_code  \n",
      "unique_id                                                \n",
      "0              M               False  Brooklyn    11231  \n",
      "1              M               False  Brooklyn    11231  \n",
      "2              M               False  Brooklyn    11235  \n",
      "3              F               False  Brooklyn    11208  \n",
      "4              M                True  Brooklyn    11208  \n",
      "...          ...                 ...       ...      ...  \n",
      "10963          M                True    Queens    11364  \n",
      "10964          M               False     Bronx    10452  \n",
      "10965          F                True     Bronx    10456  \n",
      "10966          M               False     Bronx    10467  \n",
      "10967          M               False     Bronx    10461  \n",
      "\n",
      "[10968 rows x 8 columns]\n"
     ]
    }
   ],
   "source": [
    "# Sorting and printing data.\n",
    "dog_data_clean.sort_values(\"incident_date\")\n",
    "dog_data_clean = dog_data_clean.reset_index()\n",
    "dog_data_clean.index.names = ['unique_id']\n",
    "print(dog_data_clean)"
   ]
  },
  {
   "cell_type": "code",
   "execution_count": 39,
   "metadata": {},
   "outputs": [
    {
     "data": {
      "text/plain": [
       "borough\n",
       "Bronx            [10473, 10456, 10454, 10459, 10468, 10462, 104...\n",
       "Brooklyn         [11231, 11235, 11208, 11238, 11207, 11237, 112...\n",
       "Manhattan        [10065, 10010, 10029, 10031, 10026, 10016, 100...\n",
       "Queens           [11361, 11355, 11105, 11379, 11356, 11375, 114...\n",
       "Staten Island    [10309, 10314, 10301, 10303, 10306, 10302, 103...\n",
       "dtype: object"
      ]
     },
     "execution_count": 39,
     "metadata": {},
     "output_type": "execute_result"
    }
   ],
   "source": [
    "# Creating table DataFrames.\n",
    "# Dogbite locations.\n",
    "dogbite_locations_df = dog_data_clean[[\"borough\",\"zip_code\"]].copy()\n",
    "dogbite_locations_df = pd.DataFrame(dogbite_locations_df)\n",
    "dogbite_locations_df = dogbite_locations_df.groupby(\"borough\")\n",
    "dogbite_locations_df = dogbite_locations_df.apply(lambda x: x['zip_code'].unique())\n",
    "dogbite_locations_df\n",
    "# Unique dog data.\n",
    "# dog_data_df = dog_data_clean[['breed', '']]"
   ]
  },
  {
   "cell_type": "code",
   "execution_count": 24,
   "metadata": {},
   "outputs": [],
   "source": [
    "# Exporting DataFrames to csv files.\n",
    "dog_data_clean.to_csv(\"cleaned_data.csv\")"
   ]
  }
 ],
 "metadata": {
  "kernelspec": {
   "display_name": "dev",
   "language": "python",
   "name": "python3"
  },
  "language_info": {
   "codemirror_mode": {
    "name": "ipython",
    "version": 3
   },
   "file_extension": ".py",
   "mimetype": "text/x-python",
   "name": "python",
   "nbconvert_exporter": "python",
   "pygments_lexer": "ipython3",
   "version": "3.10.14"
  }
 },
 "nbformat": 4,
 "nbformat_minor": 2
}
